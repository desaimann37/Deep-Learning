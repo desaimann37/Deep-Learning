{
 "cells": [
  {
   "cell_type": "code",
   "execution_count": 2,
   "id": "38b721fa-3e06-45d9-80f8-cb992c260d87",
   "metadata": {},
   "outputs": [],
   "source": [
    "import keras "
   ]
  },
  {
   "cell_type": "code",
   "execution_count": 2,
   "id": "76923781-ca42-4e80-9be5-b15ee07f4eb5",
   "metadata": {},
   "outputs": [],
   "source": [
    "layer = keras.layers.Dense(3)\n",
    "layer.build((None, 4))"
   ]
  },
  {
   "cell_type": "code",
   "execution_count": 4,
   "id": "7da2c2a2-336b-40f7-9bdf-9cda297083f3",
   "metadata": {},
   "outputs": [
    {
     "name": "stdout",
     "output_type": "stream",
     "text": [
      "weights: 2\n",
      "trainable_weights: 2\n",
      "non_trainable_weights: 0\n",
      "[<tf.Variable 'kernel:0' shape=(4, 3) dtype=float32, numpy=\n",
      "array([[ 0.05180997,  0.47698796, -0.87361044],\n",
      "       [-0.30674076, -0.22283852,  0.33774734],\n",
      "       [-0.48695138, -0.02751058,  0.11862814],\n",
      "       [-0.08602947, -0.12296802,  0.09638333]], dtype=float32)>, <tf.Variable 'bias:0' shape=(3,) dtype=float32, numpy=array([0., 0., 0.], dtype=float32)>]\n"
     ]
    }
   ],
   "source": [
    "print(\"weights:\", len(layer.weights))\n",
    "print(\"trainable_weights:\", len(layer.trainable_weights))\n",
    "print(\"non_trainable_weights:\", len(layer.non_trainable_weights))\n",
    "print(layer.weights)"
   ]
  },
  {
   "cell_type": "code",
   "execution_count": 5,
   "id": "c2784d82-fb3b-45b8-a9dc-ace0176a2b7f",
   "metadata": {},
   "outputs": [
    {
     "name": "stdout",
     "output_type": "stream",
     "text": [
      "weights: 4\n",
      "trainable_weights: 2\n",
      "non_trainable_weights: 2\n",
      "[<tf.Variable 'gamma:0' shape=(4,) dtype=float32, numpy=array([1., 1., 1., 1.], dtype=float32)>, <tf.Variable 'beta:0' shape=(4,) dtype=float32, numpy=array([0., 0., 0., 0.], dtype=float32)>, <tf.Variable 'moving_mean:0' shape=(4,) dtype=float32, numpy=array([0., 0., 0., 0.], dtype=float32)>, <tf.Variable 'moving_variance:0' shape=(4,) dtype=float32, numpy=array([1., 1., 1., 1.], dtype=float32)>]\n"
     ]
    }
   ],
   "source": [
    "layer = keras.layers.BatchNormalization()\n",
    "layer.build((None, 4))\n",
    "print(\"weights:\", len(layer.weights))\n",
    "print(\"trainable_weights:\", len(layer.trainable_weights))\n",
    "print(\"non_trainable_weights:\", len(layer.non_trainable_weights))\n",
    "print(layer.weights)"
   ]
  },
  {
   "cell_type": "code",
   "execution_count": 6,
   "id": "227ecd0a-8dbb-40f3-953a-2881a6bb415f",
   "metadata": {},
   "outputs": [
    {
     "name": "stdout",
     "output_type": "stream",
     "text": [
      "weights: 2\n",
      "trainable_weights: 0\n",
      "non_trainable_weights: 2\n"
     ]
    }
   ],
   "source": [
    "layer = keras.layers.Dense(3)\n",
    "layer.build((None, 4))  # Create the weights\n",
    "layer.trainable = False  # Freeze the layer\n",
    "print(\"weights:\", len(layer.weights))\n",
    "print(\"trainable_weights:\", len(layer.trainable_weights))\n",
    "print(\"non_trainable_weights:\", len(layer.non_trainable_weights))"
   ]
  },
  {
   "cell_type": "code",
   "execution_count": 8,
   "id": "e624fe16-e326-4aba-913d-b7ca6ffba4b8",
   "metadata": {},
   "outputs": [
    {
     "name": "stdout",
     "output_type": "stream",
     "text": [
      "1/1 [==============================] - 0s 284ms/step - loss: 0.0906\n",
      "[array([[ 0.64616704,  0.02836061, -0.40076613],\n",
      "       [ 0.7255826 ,  0.3484397 , -0.6296201 ],\n",
      "       [ 0.93431497,  0.6477194 ,  0.0526762 ]], dtype=float32), array([0., 0., 0.], dtype=float32)]\n",
      "[array([[ 0.64616704,  0.02836061, -0.40076613],\n",
      "       [ 0.7255826 ,  0.3484397 , -0.6296201 ],\n",
      "       [ 0.93431497,  0.6477194 ,  0.0526762 ]], dtype=float32), array([0., 0., 0.], dtype=float32)]\n"
     ]
    }
   ],
   "source": [
    "import numpy as np\n",
    "\n",
    "layer1 = keras.layers.Dense(3, activation=\"relu\")\n",
    "layer2 = keras.layers.Dense(3, activation=\"sigmoid\")\n",
    "model = keras.Sequential([keras.Input(shape=(3,)), layer1, layer2])\n",
    "layer1.trainable = False #Freezing layer1\n",
    "\n",
    "# Keep a copy of the weights of layer1 for later reference\n",
    "initial_layer1_weights_values = layer1.get_weights()\n",
    "\n",
    "#Train model\n",
    "model.compile(optimizer=\"adam\", loss=\"mse\")\n",
    "model.fit(np.random.random((2, 3)), np.random.random((2, 3)))\n",
    "\n",
    "final_layer1_weights_values = layer1.get_weights()\n",
    "\n",
    "np.testing.assert_allclose(\n",
    "    initial_layer1_weights_values[0], final_layer1_weights_values[0]\n",
    ")\n",
    "np.testing.assert_allclose(\n",
    "    initial_layer1_weights_values[1], final_layer1_weights_values[1]\n",
    ")\n",
    "\n",
    "print(final_layer1_weights_values)\n",
    "print(initial_layer1_weights_values)\n"
   ]
  },
  {
   "cell_type": "code",
   "execution_count": 27,
   "id": "a44fb250-267e-42e5-9087-a29a8722edef",
   "metadata": {},
   "outputs": [
    {
     "name": "stdout",
     "output_type": "stream",
     "text": [
      "Initial Weights of inner_model:  [array([[-0.6136267 , -0.5321281 ,  0.37815785],\n",
      "       [ 0.8746848 ,  0.5580044 , -0.19296932],\n",
      "       [-0.44046187, -0.33199668, -0.8359568 ]], dtype=float32), array([0., 0., 0.], dtype=float32), array([[ 0.9981687 ,  0.606159  , -0.02182794],\n",
      "       [-0.41157007, -0.1901412 ,  0.6596706 ],\n",
      "       [-0.33806372, -0.34632468,  0.63336754]], dtype=float32), array([0., 0., 0.], dtype=float32)]\n",
      "Initial Weights of Model:  [array([[-0.6136267 , -0.5321281 ,  0.37815785],\n",
      "       [ 0.8746848 ,  0.5580044 , -0.19296932],\n",
      "       [-0.44046187, -0.33199668, -0.8359568 ]], dtype=float32), array([0., 0., 0.], dtype=float32), array([[ 0.9981687 ,  0.606159  , -0.02182794],\n",
      "       [-0.41157007, -0.1901412 ,  0.6596706 ],\n",
      "       [-0.33806372, -0.34632468,  0.63336754]], dtype=float32), array([0., 0., 0.], dtype=float32), array([[ 0.87369657, -0.6391239 , -0.7747166 ],\n",
      "       [-0.09467793, -0.07332134, -0.9047141 ],\n",
      "       [ 0.35543275, -0.3094933 ,  0.85039043]], dtype=float32), array([0., 0., 0.], dtype=float32)]\n",
      "1/1 [==============================] - 0s 200ms/step - loss: 0.0779\n",
      "Final Weights of inner_model:  [array([[-0.6136267 , -0.5321281 ,  0.37815785],\n",
      "       [ 0.8746848 ,  0.5580044 , -0.19296932],\n",
      "       [-0.44046187, -0.33199668, -0.8359568 ]], dtype=float32), array([0., 0., 0.], dtype=float32), array([[ 0.9981687 ,  0.606159  , -0.02182794],\n",
      "       [-0.41157007, -0.1901412 ,  0.6596706 ],\n",
      "       [-0.33806372, -0.34632468,  0.63336754]], dtype=float32), array([0., 0., 0.], dtype=float32)]\n",
      "Final Weights of Model:  [array([[-0.6136267 , -0.5321281 ,  0.37815785],\n",
      "       [ 0.8746848 ,  0.5580044 , -0.19296932],\n",
      "       [-0.44046187, -0.33199668, -0.8359568 ]], dtype=float32), array([0., 0., 0.], dtype=float32), array([[ 0.9981687 ,  0.606159  , -0.02182794],\n",
      "       [-0.41157007, -0.1901412 ,  0.6596706 ],\n",
      "       [-0.33806372, -0.34632468,  0.63336754]], dtype=float32), array([0., 0., 0.], dtype=float32), array([[ 0.87369657, -0.6391239 , -0.7747166 ],\n",
      "       [-0.09467793, -0.07332134, -0.9047141 ],\n",
      "       [ 0.35543275, -0.3094933 ,  0.85039043]], dtype=float32), array([0., 0., 0.], dtype=float32)]\n"
     ]
    }
   ],
   "source": [
    "inner_model = keras.Sequential([keras.Input(shape=(3, )), keras.layers.Dense(3, activation=\"relu\"), keras.layers.Dense(3, activation=\"relu\"),])\n",
    "\n",
    "model = keras.Sequential([keras.Input(shape=(3,)), inner_model, keras.layers.Dense(3, activation=\"sigmoid\"),])\n",
    "\n",
    "inner_model_initial_weights = inner_model.get_weights()\n",
    "print(\"Initial Weights of inner_model: \", inner_model_initial_weights)\n",
    "\n",
    "model_initial_weights = model.get_weights()\n",
    "print(\"Initial Weights of Model: \", model_initial_weights)\n",
    "\n",
    "model.trainable = False\n",
    "assert inner_model.trainable == False \n",
    "\n",
    "inputs = np.random.random((2, 3))\n",
    "targets = np.random.random((2, 3))\n",
    "\n",
    "model.compile(optimizer=\"adam\", loss=\"mse\")\n",
    "model.fit(inputs, targets)\n",
    "\n",
    "inner_model_final_weights = inner_model.get_weights()\n",
    "print(\"Final Weights of inner_model: \", inner_model_final_weights)\n",
    "\n",
    "model_final_weights = model.get_weights()\n",
    "print(\"Final Weights of Model: \", model_final_weights)\n",
    "\n",
    "\n",
    "# for layer in model.layers:\n",
    "#     print(layer.name, layer.trainable)\n",
    "    \n"
   ]
  },
  {
   "cell_type": "code",
   "execution_count": 9,
   "id": "e46554d2-5f64-4a5e-a30c-0a76bf2fa990",
   "metadata": {},
   "outputs": [],
   "source": [
    "from tensorflow.keras.applications import Xception\n",
    "\n",
    "base_model = Xception(\n",
    "    weights='imagenet',  # Load weights pre-trained on ImageNet.\n",
    "    input_shape=(150, 150, 3),\n",
    "    include_top=False)  # Do not include the ImageNet classifier at the top."
   ]
  },
  {
   "cell_type": "code",
   "execution_count": 10,
   "id": "83b86882-7e9f-4d7e-92f6-dd697b919665",
   "metadata": {},
   "outputs": [],
   "source": [
    "base_model.trainable = False\n"
   ]
  },
  {
   "cell_type": "code",
   "execution_count": 11,
   "id": "a8e96b02-2e1e-4c7c-b00b-c6b02b7a736c",
   "metadata": {},
   "outputs": [
    {
     "name": "stdout",
     "output_type": "stream",
     "text": [
      "KerasTensor(type_spec=TensorSpec(shape=(None, 5, 5, 2048), dtype=tf.float32, name=None), name='xception/block14_sepconv2_act/Relu:0', description=\"created by layer 'xception'\")\n",
      "KerasTensor(type_spec=TensorSpec(shape=(None, 2048), dtype=tf.float32, name=None), name='global_average_pooling2d_1/Mean:0', description=\"created by layer 'global_average_pooling2d_1'\")\n"
     ]
    }
   ],
   "source": [
    "#Create a new model on top.\n",
    "\n",
    "inputs = keras.Input(shape=(150, 150, 3))\n",
    "x = base_model(inputs, training=False)\n",
    "print(x)\n",
    "x = keras.layers.GlobalAveragePooling2D()(x)\n",
    "print(x)\n",
    "\n",
    "outputs = keras.layers.Dense(1)(x)\n",
    "model = keras.Model(inputs, outputs)\n",
    "\n"
   ]
  },
  {
   "cell_type": "code",
   "execution_count": 12,
   "id": "e382c30a-ac2c-4c1e-ad96-03274b29c28c",
   "metadata": {},
   "outputs": [
    {
     "name": "stdout",
     "output_type": "stream",
     "text": [
      "Found 8000 images belonging to 2 classes.\n",
      "Found 2000 images belonging to 2 classes.\n",
      "Epoch 1/20\n",
      "250/250 [==============================] - 364s 1s/step - loss: 0.0886 - binary_accuracy: 0.9714 - val_loss: 0.0457 - val_binary_accuracy: 0.9855\n",
      "Epoch 2/20\n",
      "250/250 [==============================] - 360s 1s/step - loss: 0.0422 - binary_accuracy: 0.9854 - val_loss: 0.0385 - val_binary_accuracy: 0.9865\n",
      "Epoch 3/20\n",
      "250/250 [==============================] - 358s 1s/step - loss: 0.0366 - binary_accuracy: 0.9868 - val_loss: 0.0354 - val_binary_accuracy: 0.9895\n",
      "Epoch 4/20\n",
      "250/250 [==============================] - 361s 1s/step - loss: 0.0340 - binary_accuracy: 0.9876 - val_loss: 0.0361 - val_binary_accuracy: 0.9880\n",
      "Epoch 5/20\n",
      "250/250 [==============================] - 359s 1s/step - loss: 0.0308 - binary_accuracy: 0.9875 - val_loss: 0.0345 - val_binary_accuracy: 0.9900\n",
      "Epoch 6/20\n",
      "250/250 [==============================] - 358s 1s/step - loss: 0.0320 - binary_accuracy: 0.9883 - val_loss: 0.0369 - val_binary_accuracy: 0.9880\n",
      "Epoch 7/20\n",
      "250/250 [==============================] - 360s 1s/step - loss: 0.0286 - binary_accuracy: 0.9899 - val_loss: 0.0346 - val_binary_accuracy: 0.9900\n",
      "Epoch 8/20\n",
      "250/250 [==============================] - 359s 1s/step - loss: 0.0272 - binary_accuracy: 0.9894 - val_loss: 0.0392 - val_binary_accuracy: 0.9870\n",
      "Epoch 9/20\n",
      "250/250 [==============================] - 361s 1s/step - loss: 0.0273 - binary_accuracy: 0.9900 - val_loss: 0.0344 - val_binary_accuracy: 0.9900\n",
      "Epoch 10/20\n",
      "250/250 [==============================] - 361s 1s/step - loss: 0.0251 - binary_accuracy: 0.9920 - val_loss: 0.0348 - val_binary_accuracy: 0.9890\n",
      "Epoch 11/20\n",
      "250/250 [==============================] - 361s 1s/step - loss: 0.0262 - binary_accuracy: 0.9896 - val_loss: 0.0357 - val_binary_accuracy: 0.9895\n",
      "Epoch 12/20\n",
      "250/250 [==============================] - 363s 1s/step - loss: 0.0227 - binary_accuracy: 0.9915 - val_loss: 0.0413 - val_binary_accuracy: 0.9885\n",
      "Epoch 13/20\n",
      "250/250 [==============================] - 362s 1s/step - loss: 0.0245 - binary_accuracy: 0.9904 - val_loss: 0.0381 - val_binary_accuracy: 0.9885\n",
      "Epoch 14/20\n",
      "250/250 [==============================] - 363s 1s/step - loss: 0.0230 - binary_accuracy: 0.9926 - val_loss: 0.0382 - val_binary_accuracy: 0.9885\n",
      "Epoch 15/20\n",
      "250/250 [==============================] - 364s 1s/step - loss: 0.0216 - binary_accuracy: 0.9914 - val_loss: 0.0378 - val_binary_accuracy: 0.9900\n",
      "Epoch 16/20\n",
      "250/250 [==============================] - 371s 1s/step - loss: 0.0211 - binary_accuracy: 0.9933 - val_loss: 0.0370 - val_binary_accuracy: 0.9895\n",
      "Epoch 17/20\n",
      "250/250 [==============================] - 369s 1s/step - loss: 0.0193 - binary_accuracy: 0.9937 - val_loss: 0.0376 - val_binary_accuracy: 0.9900\n",
      "Epoch 18/20\n",
      "250/250 [==============================] - 405s 2s/step - loss: 0.0204 - binary_accuracy: 0.9929 - val_loss: 0.0376 - val_binary_accuracy: 0.9910\n",
      "Epoch 19/20\n",
      "250/250 [==============================] - 606s 2s/step - loss: 0.0196 - binary_accuracy: 0.9925 - val_loss: 0.0389 - val_binary_accuracy: 0.9895\n",
      "Epoch 20/20\n",
      "250/250 [==============================] - 414s 2s/step - loss: 0.0183 - binary_accuracy: 0.9933 - val_loss: 0.0396 - val_binary_accuracy: 0.9900\n"
     ]
    },
    {
     "data": {
      "text/plain": [
       "<keras.callbacks.History at 0x24190656a70>"
      ]
     },
     "execution_count": 12,
     "metadata": {},
     "output_type": "execute_result"
    }
   ],
   "source": [
    "from tensorflow.keras.preprocessing.image import ImageDataGenerator\n",
    "from tensorflow.keras.models import Sequential\n",
    "from tensorflow.keras.layers import Conv2D, MaxPooling2D, Flatten, Dense\n",
    "\n",
    "\n",
    "# Path to the training and test set directories\n",
    "train_data_dir = r'C:\\Users\\Admin\\test_data\\dataset\\training_set'\n",
    "test_data_dir = r'C:\\Users\\Admin\\test_data\\dataset\\test_set'\n",
    "\n",
    "\n",
    "# Define parameters for ImageDataGenerator\n",
    "train_datagen = ImageDataGenerator(\n",
    "    rescale=1./255,  # Rescale pixel values to [0, 1]\n",
    "    shear_range=0.2,  # Shear transformation\n",
    "    zoom_range=0.2,  # Random zoom\n",
    "    horizontal_flip=True  # Random horizontal flip\n",
    ")\n",
    "test_datagen = ImageDataGenerator(rescale=1./255)  # Only rescale for the test set\n",
    "\n",
    "# Flow training images in batches of 32 using train_datagen generator\n",
    "train_generator = train_datagen.flow_from_directory(\n",
    "    train_data_dir,\n",
    "    target_size=(224, 224),  # Keep images at (224, 224), no resizing needed\n",
    "    batch_size=32,\n",
    "    class_mode='binary'  # Binary labels (cats vs dogs)\n",
    ")\n",
    "# Flow validation images in batches of 32 using test_datagen generator\n",
    "test_generator = test_datagen.flow_from_directory(\n",
    "    test_data_dir,\n",
    "    target_size=(224, 224),\n",
    "    batch_size=32,\n",
    "    class_mode='binary'\n",
    ")\n",
    "\n",
    "\"\"\"\n",
    "# Define your model architecture\n",
    "model = Sequential([\n",
    "    Conv2D(32, (3, 3), activation='relu', input_shape=(224, 224, 3)),\n",
    "    MaxPooling2D((2, 2)),\n",
    "    Conv2D(64, (3, 3), activation='relu'),\n",
    "    MaxPooling2D((2, 2)),\n",
    "    Conv2D(128, (3, 3), activation='relu'),\n",
    "    MaxPooling2D((2, 2)),\n",
    "    Conv2D(128, (3, 3), activation='relu'),\n",
    "    MaxPooling2D((2, 2)),\n",
    "    Flatten(),\n",
    "    Dense(512, activation='relu'),\n",
    "    Dense(1, activation='sigmoid')  # Sigmoid activation for binary classification\n",
    "])\n",
    "\"\"\"\n",
    "\n",
    "# Compile the model\n",
    "model.compile(optimizer=keras.optimizers.Adam(), loss=keras.losses.BinaryCrossentropy(from_logits=True), metrics=[keras.metrics.BinaryAccuracy()])\n",
    "\n",
    "# Train the model\n",
    "model.fit(\n",
    "    train_generator,\n",
    "    epochs=20,\n",
    "    steps_per_epoch=len(train_generator),\n",
    "    verbose=1,\n",
    "    validation_data=test_generator,\n",
    "    validation_steps=len(test_generator)\n",
    ")"
   ]
  },
  {
   "cell_type": "code",
   "execution_count": null,
   "id": "dda7c9cf-2464-4012-8ad5-2852bdcec714",
   "metadata": {},
   "outputs": [],
   "source": []
  },
  {
   "cell_type": "code",
   "execution_count": null,
   "id": "18587e0b-14cb-4eca-80e6-be13a8640496",
   "metadata": {},
   "outputs": [],
   "source": []
  },
  {
   "cell_type": "code",
   "execution_count": null,
   "id": "6b39fdb3-aaa2-40ce-b30a-bc7bef729ddb",
   "metadata": {},
   "outputs": [],
   "source": []
  }
 ],
 "metadata": {
  "kernelspec": {
   "display_name": "Python 3 (ipykernel)",
   "language": "python",
   "name": "python3"
  },
  "language_info": {
   "codemirror_mode": {
    "name": "ipython",
    "version": 3
   },
   "file_extension": ".py",
   "mimetype": "text/x-python",
   "name": "python",
   "nbconvert_exporter": "python",
   "pygments_lexer": "ipython3",
   "version": "3.10.13"
  }
 },
 "nbformat": 4,
 "nbformat_minor": 5
}
